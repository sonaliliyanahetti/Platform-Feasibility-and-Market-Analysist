{
  "nbformat": 4,
  "nbformat_minor": 0,
  "metadata": {
    "colab": {
      "provenance": [],
      "authorship_tag": "ABX9TyMWlAfVULKW3dXH/yoqMx3p",
      "include_colab_link": true
    },
    "kernelspec": {
      "name": "python3",
      "display_name": "Python 3"
    },
    "language_info": {
      "name": "python"
    }
  },
  "cells": [
    {
      "cell_type": "markdown",
      "metadata": {
        "id": "view-in-github",
        "colab_type": "text"
      },
      "source": [
        "<a href=\"https://colab.research.google.com/github/sonaliliyanahetti/Platform-Feasibility-and-Market-Analysist/blob/Model-training/platform_feasibility_using_random_forest_and_desicion_tree.ipynb\" target=\"_parent\"><img src=\"https://colab.research.google.com/assets/colab-badge.svg\" alt=\"Open In Colab\"/></a>"
      ]
    },
    {
      "cell_type": "code",
      "source": [
        "from google.colab import drive\n",
        "drive.mount('/content/drive')"
      ],
      "metadata": {
        "colab": {
          "base_uri": "https://localhost:8080/"
        },
        "id": "bOW7Z7bTT1_W",
        "outputId": "c5d77ff1-1f2a-4dcb-e43d-9f327c3ae7bd"
      },
      "execution_count": 2,
      "outputs": [
        {
          "output_type": "stream",
          "name": "stdout",
          "text": [
            "Mounted at /content/drive\n"
          ]
        }
      ]
    },
    {
      "cell_type": "code",
      "source": [
        "import pandas as pd\n",
        "import numpy as np\n",
        "from sklearn.model_selection import train_test_split\n",
        "from sklearn.metrics import classification_report, confusion_matrix, accuracy_score\n",
        "\n",
        "# Ensemble Models\n",
        "from sklearn.ensemble import RandomForestClassifier\n",
        "from sklearn.tree import DecisionTreeClassifier"
      ],
      "metadata": {
        "id": "CoPFZ2L3UK_y"
      },
      "execution_count": 3,
      "outputs": []
    },
    {
      "cell_type": "code",
      "source": [
        "\n",
        "# --- 1. DATA PREPARATION (Replace this section with your actual code) ---\n",
        "# NOTE: We simulate an imbalanced dataset (similar to your 74:5 ratio) for a runnable script.\n",
        "# Replace this entire block with your code for loading data (X, y) and splitting it.\n",
        "\n",
        "from sklearn.datasets import make_classification\n",
        "# Creating a synthetic dataset with 93% Class 0 (Majority) and 7% Class 1 (Minority)\n",
        "X, y = make_classification(\n",
        "    n_samples=1000,\n",
        "    n_features=20,\n",
        "    n_informative=10,\n",
        "    n_redundant=0,\n",
        "    n_classes=2,\n",
        "    n_clusters_per_class=1,\n",
        "    weights=[0.93, 0.07], # Mimics your severe class imbalance\n",
        "    flip_y=0,\n",
        "    random_state=42\n",
        ")\n"
      ],
      "metadata": {
        "id": "rj1URDPzUN5j"
      },
      "execution_count": 4,
      "outputs": []
    },
    {
      "cell_type": "code",
      "source": [
        "# Splitting the data into training and testing sets\n",
        "X_train, X_test, y_train, y_test = train_test_split(\n",
        "    X, y, test_size=0.2, random_state=42, stratify=y # Use stratify to preserve imbalance ratio\n",
        ")\n"
      ],
      "metadata": {
        "id": "X3Khoon-UUgh"
      },
      "execution_count": 5,
      "outputs": []
    },
    {
      "cell_type": "code",
      "source": [
        "print(f\"Training set size (Class 0 / Class 1): {np.sum(y_train == 0)} / {np.sum(y_train == 1)}\")\n",
        "print(f\"Test set size (Class 0 / Class 1): {np.sum(y_test == 0)} / {np.sum(y_test == 1)}\\n\")"
      ],
      "metadata": {
        "colab": {
          "base_uri": "https://localhost:8080/"
        },
        "id": "uoW7GKRYUXQv",
        "outputId": "f7749474-80c3-4971-f661-20193aaa597b"
      },
      "execution_count": 6,
      "outputs": [
        {
          "output_type": "stream",
          "name": "stdout",
          "text": [
            "Training set size (Class 0 / Class 1): 744 / 56\n",
            "Test set size (Class 0 / Class 1): 186 / 14\n",
            "\n"
          ]
        }
      ]
    },
    {
      "cell_type": "code",
      "source": [
        "\n",
        "# --- 2. RANDOM FOREST CLASSIFIER (Recommended Model) ---\n",
        "\n",
        "print(\"--- Evaluating Random Forest Classifier ---\")\n",
        "\n",
        "# Use class_weight='balanced' to penalize misclassification of the minority class\n",
        "rf_model = RandomForestClassifier(\n",
        "    n_estimators=100,\n",
        "    class_weight='balanced', # Crucial for imbalanced data\n",
        "    random_state=42,\n",
        "    n_jobs=-1\n",
        ")\n",
        "\n",
        "rf_model.fit(X_train, y_train)\n",
        "y_pred_rf = rf_model.predict(X_test)"
      ],
      "metadata": {
        "colab": {
          "base_uri": "https://localhost:8080/"
        },
        "id": "w3r4t8OcUctt",
        "outputId": "b74b6f25-310f-4c2f-eec0-99801474e6bf"
      },
      "execution_count": 7,
      "outputs": [
        {
          "output_type": "stream",
          "name": "stdout",
          "text": [
            "--- Evaluating Random Forest Classifier ---\n"
          ]
        }
      ]
    },
    {
      "cell_type": "code",
      "source": [
        "print(\"\\n--- Random Forest Evaluation Results ---\")\n",
        "print(f\"Overall Accuracy: {accuracy_score(y_test, y_pred_rf):.4f}\")\n",
        "\n",
        "print(\"\\nConfusion Matrix:\\n\", confusion_matrix(y_test, y_pred_rf))\n",
        "\n",
        "print(\"\\nClassification Report (Focus on Class 1 Recall & F1-Score):\\n\",\n",
        "      classification_report(y_test, y_pred_rf))\n"
      ],
      "metadata": {
        "id": "ikVflxV2Ue8p",
        "colab": {
          "base_uri": "https://localhost:8080/"
        },
        "outputId": "ae4d5812-6ff6-4ddb-c977-e2c6d1e7de1d"
      },
      "execution_count": 11,
      "outputs": [
        {
          "output_type": "stream",
          "name": "stdout",
          "text": [
            "\n",
            "--- Random Forest Evaluation Results ---\n",
            "Overall Accuracy: 0.9800\n",
            "\n",
            "Confusion Matrix:\n",
            " [[186   0]\n",
            " [  4  10]]\n",
            "\n",
            "Classification Report (Focus on Class 1 Recall & F1-Score):\n",
            "               precision    recall  f1-score   support\n",
            "\n",
            "           0       0.98      1.00      0.99       186\n",
            "           1       1.00      0.71      0.83        14\n",
            "\n",
            "    accuracy                           0.98       200\n",
            "   macro avg       0.99      0.86      0.91       200\n",
            "weighted avg       0.98      0.98      0.98       200\n",
            "\n"
          ]
        }
      ]
    },
    {
      "cell_type": "code",
      "source": [
        "# --- 3. DECISION TREE CLASSIFIER (Baseline Comparison) ---\n",
        "\n",
        "print(\"\\n\\n--- Evaluating Decision Tree Classifier ---\")\n",
        "\n",
        "# Use class_weight='balanced' and set a max_depth to reduce overfitting\n",
        "dt_model = DecisionTreeClassifier(\n",
        "    class_weight='balanced', # Crucial for imbalanced data\n",
        "    max_depth=5,            # Limiting depth helps prevent overfitting\n",
        "    random_state=42\n",
        ")\n",
        "\n",
        "dt_model.fit(X_train, y_train)\n",
        "y_pred_dt = dt_model.predict(X_test\n",
        ")"
      ],
      "metadata": {
        "colab": {
          "base_uri": "https://localhost:8080/"
        },
        "id": "D5EArFnHUuj6",
        "outputId": "d5bb9205-ea2f-4db7-fcd9-69ed3f394188"
      },
      "execution_count": 12,
      "outputs": [
        {
          "output_type": "stream",
          "name": "stdout",
          "text": [
            "\n",
            "\n",
            "--- Evaluating Decision Tree Classifier ---\n"
          ]
        }
      ]
    },
    {
      "cell_type": "code",
      "execution_count": 13,
      "metadata": {
        "colab": {
          "base_uri": "https://localhost:8080/"
        },
        "id": "fpT1JeJakTh7",
        "outputId": "e67f845d-f680-454a-8a19-65783502cb7e"
      },
      "outputs": [
        {
          "output_type": "stream",
          "name": "stdout",
          "text": [
            "Overall Accuracy: 0.9350\n",
            "\n",
            "Confusion Matrix:\n",
            " [[176  10]\n",
            " [  3  11]]\n",
            "\n",
            "Classification Report (Focus on Class 1 Recall & F1-Score):\n",
            "               precision    recall  f1-score   support\n",
            "\n",
            "           0       0.98      0.95      0.96       186\n",
            "           1       0.52      0.79      0.63        14\n",
            "\n",
            "    accuracy                           0.94       200\n",
            "   macro avg       0.75      0.87      0.80       200\n",
            "weighted avg       0.95      0.94      0.94       200\n",
            "\n"
          ]
        }
      ],
      "source": [
        "\n",
        "# Evaluation\n",
        "print(f\"Overall Accuracy: {accuracy_score(y_test, y_pred_dt):.4f}\")\n",
        "print(\"\\nConfusion Matrix:\\n\", confusion_matrix(y_test, y_pred_dt))\n",
        "print(\"\\nClassification Report (Focus on Class 1 Recall & F1-Score):\\n\", classification_report(y_test, y_pred_dt))"
      ]
    }
  ]
}